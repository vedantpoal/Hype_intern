{
  "nbformat": 4,
  "nbformat_minor": 0,
  "metadata": {
    "colab": {
      "provenance": [],
      "gpuType": "T4"
    },
    "kernelspec": {
      "name": "python3",
      "display_name": "Python 3"
    },
    "language_info": {
      "name": "python"
    },
    "accelerator": "GPU"
  },
  "cells": [
    {
      "cell_type": "code",
      "source": [
        "import tensorflow as tf\n",
        "import tensorflow_datasets as tfds\n",
        "from tensorflow.keras.preprocessing.text import Tokenizer\n",
        "from tensorflow.keras.preprocessing.sequence import pad_sequences\n",
        "import numpy as np\n",
        "import matplotlib.pyplot as plt"
      ],
      "metadata": {
        "id": "XDAWeTszSAZz"
      },
      "execution_count": 16,
      "outputs": []
    },
    {
      "cell_type": "code",
      "source": [
        "# Load the IMDb dataset\n",
        "(ds_train, ds_test), ds_info = tfds.load('imdb_reviews', split=['train', 'test'], with_info=True, as_supervised=True)"
      ],
      "metadata": {
        "id": "Us7_5pBdSCLj"
      },
      "execution_count": 17,
      "outputs": []
    },
    {
      "cell_type": "code",
      "source": [
        "# Convert datasets to numpy arrays\n",
        "train_reviews = []\n",
        "train_labels = []\n",
        "test_reviews = []\n",
        "test_labels = []"
      ],
      "metadata": {
        "id": "JsPrCQRASD5z"
      },
      "execution_count": 18,
      "outputs": []
    },
    {
      "cell_type": "code",
      "source": [
        "for review, label in tfds.as_numpy(ds_train):\n",
        "    train_reviews.append(review.decode('utf-8'))\n",
        "    train_labels.append(label)\n",
        "\n",
        "for review, label in tfds.as_numpy(ds_test):\n",
        "    test_reviews.append(review.decode('utf-8'))\n",
        "    test_labels.append(label)"
      ],
      "metadata": {
        "id": "sA4-p-v6SHiW"
      },
      "execution_count": 19,
      "outputs": []
    },
    {
      "cell_type": "code",
      "source": [
        "train_reviews = np.array(train_reviews)\n",
        "train_labels = np.array(train_labels)\n",
        "test_reviews = np.array(test_reviews)\n",
        "test_labels = np.array(test_labels)"
      ],
      "metadata": {
        "id": "PXEnIeq3SJMk"
      },
      "execution_count": 20,
      "outputs": []
    },
    {
      "cell_type": "code",
      "source": [
        "# Tokenize the text data\n",
        "tokenizer = Tokenizer(num_words=5000)\n",
        "tokenizer.fit_on_texts(train_reviews)\n",
        "train_sequences = tokenizer.texts_to_sequences(train_reviews)\n",
        "test_sequences = tokenizer.texts_to_sequences(test_reviews)"
      ],
      "metadata": {
        "id": "aj5mTFVUSMO7"
      },
      "execution_count": 21,
      "outputs": []
    },
    {
      "cell_type": "code",
      "source": [
        "# Pad the sequences to ensure uniform input length\n",
        "max_sequence_length = 200\n",
        "X_train = pad_sequences(train_sequences, maxlen=max_sequence_length)\n",
        "X_test = pad_sequences(test_sequences, maxlen=max_sequence_length)\n",
        "y_train = np.array(train_labels)\n",
        "y_test = np.array(test_labels)"
      ],
      "metadata": {
        "id": "XSjX3bUmSOBx"
      },
      "execution_count": 22,
      "outputs": []
    },
    {
      "cell_type": "code",
      "source": [
        "# Build the LSTM model\n",
        "model = tf.keras.Sequential([\n",
        "    tf.keras.layers.Embedding(input_dim=5000, output_dim=128, input_length=max_sequence_length),\n",
        "    tf.keras.layers.LSTM(128, return_sequences=True),\n",
        "    tf.keras.layers.LSTM(64),\n",
        "    tf.keras.layers.Dense(1, activation='sigmoid')\n",
        "])"
      ],
      "metadata": {
        "id": "kWOaHErpSPoy"
      },
      "execution_count": 23,
      "outputs": []
    },
    {
      "cell_type": "code",
      "source": [
        "# Compile the model\n",
        "model.compile(optimizer='adam', loss='binary_crossentropy', metrics=['accuracy'])"
      ],
      "metadata": {
        "id": "8n1MLF86SSOa"
      },
      "execution_count": 24,
      "outputs": []
    },
    {
      "cell_type": "code",
      "source": [
        "# Summary of the model\n",
        "model.summary()"
      ],
      "metadata": {
        "colab": {
          "base_uri": "https://localhost:8080/"
        },
        "id": "VTEfoCeMSTp4",
        "outputId": "1e489c6b-0a37-4d98-c677-b5e0d1622d7f"
      },
      "execution_count": 25,
      "outputs": [
        {
          "output_type": "stream",
          "name": "stdout",
          "text": [
            "Model: \"sequential_1\"\n",
            "_________________________________________________________________\n",
            " Layer (type)                Output Shape              Param #   \n",
            "=================================================================\n",
            " embedding_1 (Embedding)     (None, 200, 128)          640000    \n",
            "                                                                 \n",
            " lstm_2 (LSTM)               (None, 200, 128)          131584    \n",
            "                                                                 \n",
            " lstm_3 (LSTM)               (None, 64)                49408     \n",
            "                                                                 \n",
            " dense_1 (Dense)             (None, 1)                 65        \n",
            "                                                                 \n",
            "=================================================================\n",
            "Total params: 821057 (3.13 MB)\n",
            "Trainable params: 821057 (3.13 MB)\n",
            "Non-trainable params: 0 (0.00 Byte)\n",
            "_________________________________________________________________\n"
          ]
        }
      ]
    },
    {
      "cell_type": "code",
      "source": [
        "# Train the model\n",
        "history = model.fit(X_train, y_train, epochs=5, batch_size=32, validation_data=(X_test, y_test))"
      ],
      "metadata": {
        "colab": {
          "base_uri": "https://localhost:8080/"
        },
        "id": "T5grOg_NSVjF",
        "outputId": "c2219554-2823-4517-f252-640210d57410"
      },
      "execution_count": 26,
      "outputs": [
        {
          "output_type": "stream",
          "name": "stdout",
          "text": [
            "Epoch 1/5\n",
            "782/782 [==============================] - 56s 67ms/step - loss: 0.4521 - accuracy: 0.7884 - val_loss: 0.4223 - val_accuracy: 0.8064\n",
            "Epoch 2/5\n",
            "782/782 [==============================] - 24s 30ms/step - loss: 0.3766 - accuracy: 0.8364 - val_loss: 0.3585 - val_accuracy: 0.8487\n",
            "Epoch 3/5\n",
            "782/782 [==============================] - 21s 27ms/step - loss: 0.2689 - accuracy: 0.8904 - val_loss: 0.3212 - val_accuracy: 0.8633\n",
            "Epoch 4/5\n",
            "782/782 [==============================] - 19s 24ms/step - loss: 0.2405 - accuracy: 0.9040 - val_loss: 0.3447 - val_accuracy: 0.8586\n",
            "Epoch 5/5\n",
            "782/782 [==============================] - 19s 25ms/step - loss: 0.1907 - accuracy: 0.9282 - val_loss: 0.3644 - val_accuracy: 0.8487\n"
          ]
        }
      ]
    },
    {
      "cell_type": "code",
      "source": [
        "# Evaluate the model\n",
        "loss, accuracy = model.evaluate(X_test, y_test)\n",
        "print(f\"Test Accuracy: {accuracy:.4f}\")"
      ],
      "metadata": {
        "colab": {
          "base_uri": "https://localhost:8080/"
        },
        "id": "dEJGSGquSYAL",
        "outputId": "d5f8e057-1df8-472b-edc0-408fb580df8c"
      },
      "execution_count": 27,
      "outputs": [
        {
          "output_type": "stream",
          "name": "stdout",
          "text": [
            "782/782 [==============================] - 6s 8ms/step - loss: 0.3644 - accuracy: 0.8487\n",
            "Test Accuracy: 0.8487\n"
          ]
        }
      ]
    },
    {
      "cell_type": "code",
      "source": [
        "# Plot training & validation accuracy values\n",
        "plt.figure(figsize=(12, 4))\n",
        "\n",
        "plt.subplot(1, 2, 1)\n",
        "plt.plot(history.history['accuracy'])\n",
        "plt.plot(history.history['val_accuracy'])\n",
        "plt.title('Model accuracy')\n",
        "plt.ylabel('Accuracy')\n",
        "plt.xlabel('Epoch')\n",
        "plt.legend(['Train', 'Validation'], loc='upper left')\n",
        "\n",
        "# Plot training & validation loss values\n",
        "plt.subplot(1, 2, 2)\n",
        "plt.plot(history.history['loss'])\n",
        "plt.plot(history.history['val_loss'])\n",
        "plt.title('Model loss')\n",
        "plt.ylabel('Loss')\n",
        "plt.xlabel('Epoch')\n",
        "plt.legend(['Train', 'Validation'], loc='upper left')\n",
        "\n",
        "plt.show()"
      ],
      "metadata": {
        "colab": {
          "base_uri": "https://localhost:8080/",
          "height": 410
        },
        "id": "4331MASZSbeu",
        "outputId": "e1667edb-7e6b-481c-d2ea-246dde0c99ae"
      },
      "execution_count": 28,
      "outputs": [
        {
          "output_type": "display_data",
          "data": {
            "text/plain": [
              "<Figure size 1200x400 with 2 Axes>"
            ],
            "image/png": "[encoded data removed]"
          },
          "metadata": {}
        }
      ]
    },
    {
      "cell_type": "code",
      "source": [
        "# Function to preprocess and predict sentiment of new reviews\n",
        "def predict_sentiment(review, tokenizer, max_sequence_length, model):\n",
        "    sequence = tokenizer.texts_to_sequences([review])\n",
        "    padded_sequence = pad_sequences(sequence, maxlen=max_sequence_length)\n",
        "    prediction = model.predict(padded_sequence)[0][0]\n",
        "    sentiment = 'positive' if prediction > 0.5 else 'negative'\n",
        "    return sentiment\n",
        "\n",
        "# Test the function with a sample review\n",
        "sample_review = \"I am not happy\"\n",
        "predicted_sentiment = predict_sentiment(sample_review, tokenizer, max_sequence_length, model)\n",
        "print(f\"The predicted sentiment is: {predicted_sentiment}\")"
      ],
      "metadata": {
        "colab": {
          "base_uri": "https://localhost:8080/"
        },
        "id": "GaVdLw-PEJwl",
        "outputId": "7cd9c40a-d493-4b8d-dea8-c37854801cac"
      },
      "execution_count": 29,
      "outputs": [
        {
          "output_type": "stream",
          "name": "stdout",
          "text": [
            "1/1 [==============================] - 1s 615ms/step\n",
            "The predicted sentiment is: negative\n"
          ]
        }
      ]
    },
    {
      "cell_type": "code",
      "source": [
        "# Test the function with a sample review\n",
        "sample_review = \"I am feeling happy\"\n",
        "predicted_sentiment = predict_sentiment(sample_review, tokenizer, max_sequence_length, model)\n",
        "print(f\"The predicted sentiment is: {predicted_sentiment}\")"
      ],
      "metadata": {
        "colab": {
          "base_uri": "https://localhost:8080/"
        },
        "id": "dK189lNtSfiz",
        "outputId": "2878c501-6282-4067-b656-9aaba3574709"
      },
      "execution_count": 31,
      "outputs": [
        {
          "output_type": "stream",
          "name": "stdout",
          "text": [
            "1/1 [==============================] - 0s 39ms/step\n",
            "The predicted sentiment is: positive\n"
          ]
        }
      ]
    }
  ]
}